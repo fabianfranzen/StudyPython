{
 "cells": [
  {
   "cell_type": "markdown",
   "metadata": {},
   "source": [
    "### Immutable data structures"
   ]
  },
  {
   "cell_type": "markdown",
   "metadata": {},
   "source": [
    "Dont use dictionary, list because it's mutable. Use tuple!"
   ]
  },
  {
   "cell_type": "code",
   "execution_count": 1,
   "metadata": {},
   "outputs": [],
   "source": [
    "import collections"
   ]
  },
  {
   "cell_type": "code",
   "execution_count": 2,
   "metadata": {},
   "outputs": [],
   "source": [
    "Scientist = collections.namedtuple('Scientists', [\n",
    "    'name',\n",
    "    'field',\n",
    "    'born',\n",
    "    'nobel'\n",
    "])"
   ]
  },
  {
   "cell_type": "code",
   "execution_count": 3,
   "metadata": {},
   "outputs": [],
   "source": [
    "scientists = (Scientist(name='Ada Lovelace', field='math', born=1815, nobel=False),\n",
    "              Scientist(name='Emmy Noether', field='math', born=1882, nobel=False),\n",
    "              Scientist(name='Marie Curie', field='physics', born=1867, nobel=True),\n",
    "              Scientist(name='Tu Youyou', field='chemistry', born=1930, nobel=True),\n",
    "              Scientist(name='Ada Yonath', field='chemistry', born=1939, nobel=True),\n",
    "              Scientist(name='Vera Rubin', field='astronomy', born=1928, nobel=False),\n",
    "              Scientist(name='Sally Ride', field='physics', born=1951, nobel=True)\n",
    "             )"
   ]
  },
  {
   "cell_type": "code",
   "execution_count": 4,
   "metadata": {},
   "outputs": [
    {
     "data": {
      "text/plain": [
       "(Scientists(name='Ada Lovelace', field='math', born=1815, nobel=False),\n",
       " Scientists(name='Emmy Noether', field='math', born=1882, nobel=False),\n",
       " Scientists(name='Marie Curie', field='physics', born=1867, nobel=True),\n",
       " Scientists(name='Tu Youyou', field='chemistry', born=1930, nobel=True),\n",
       " Scientists(name='Ada Yonath', field='chemistry', born=1939, nobel=True),\n",
       " Scientists(name='Vera Rubin', field='astronomy', born=1928, nobel=False),\n",
       " Scientists(name='Sally Ride', field='physics', born=1951, nobel=True))"
      ]
     },
     "execution_count": 4,
     "metadata": {},
     "output_type": "execute_result"
    }
   ],
   "source": [
    "scientists"
   ]
  },
  {
   "cell_type": "code",
   "execution_count": 5,
   "metadata": {},
   "outputs": [],
   "source": [
    "from pprint import pprint"
   ]
  },
  {
   "cell_type": "code",
   "execution_count": 6,
   "metadata": {},
   "outputs": [
    {
     "name": "stdout",
     "output_type": "stream",
     "text": [
      "(Scientists(name='Ada Lovelace', field='math', born=1815, nobel=False),\n",
      " Scientists(name='Emmy Noether', field='math', born=1882, nobel=False),\n",
      " Scientists(name='Marie Curie', field='physics', born=1867, nobel=True),\n",
      " Scientists(name='Tu Youyou', field='chemistry', born=1930, nobel=True),\n",
      " Scientists(name='Ada Yonath', field='chemistry', born=1939, nobel=True),\n",
      " Scientists(name='Vera Rubin', field='astronomy', born=1928, nobel=False),\n",
      " Scientists(name='Sally Ride', field='physics', born=1951, nobel=True))\n"
     ]
    }
   ],
   "source": [
    "pprint(scientists)"
   ]
  },
  {
   "cell_type": "markdown",
   "metadata": {},
   "source": [
    "### The \"filter()\" Function"
   ]
  },
  {
   "cell_type": "code",
   "execution_count": 7,
   "metadata": {},
   "outputs": [],
   "source": [
    "#get new list off scientists that have won nobel prize\n",
    "fs = tuple(filter(lambda x: x.nobel is True, scientists))\n",
    "#lambda is a one line function, put arguments with one expression, no return. Will evaluate expression and return back.\n",
    "#next(fs) can be used if tuple is not used above"
   ]
  },
  {
   "cell_type": "code",
   "execution_count": 8,
   "metadata": {},
   "outputs": [
    {
     "name": "stdout",
     "output_type": "stream",
     "text": [
      "(Scientists(name='Marie Curie', field='physics', born=1867, nobel=True),\n",
      " Scientists(name='Tu Youyou', field='chemistry', born=1930, nobel=True),\n",
      " Scientists(name='Ada Yonath', field='chemistry', born=1939, nobel=True),\n",
      " Scientists(name='Sally Ride', field='physics', born=1951, nobel=True))\n"
     ]
    }
   ],
   "source": [
    "pprint(fs)"
   ]
  },
  {
   "cell_type": "code",
   "execution_count": 9,
   "metadata": {},
   "outputs": [
    {
     "data": {
      "text/plain": [
       "[Scientists(name='Marie Curie', field='physics', born=1867, nobel=True),\n",
       " Scientists(name='Tu Youyou', field='chemistry', born=1930, nobel=True),\n",
       " Scientists(name='Ada Yonath', field='chemistry', born=1939, nobel=True),\n",
       " Scientists(name='Sally Ride', field='physics', born=1951, nobel=True)]"
      ]
     },
     "execution_count": 9,
     "metadata": {},
     "output_type": "execute_result"
    }
   ],
   "source": [
    "## List comprehensions\n",
    "[x for x in scientists if x.nobel is True]\n",
    "## \"pythonic\" version of filter expression"
   ]
  },
  {
   "cell_type": "markdown",
   "metadata": {},
   "source": [
    "### The \"map()\" Function"
   ]
  },
  {
   "cell_type": "code",
   "execution_count": 10,
   "metadata": {},
   "outputs": [],
   "source": [
    "## map takes a list of stuff, applies a function and assembles a new list based on that\n",
    "names_and_ages = tuple(map(\n",
    "    lambda x: {'name': x.name, 'age':2017-x.born},\n",
    "    scientists\n",
    "))"
   ]
  },
  {
   "cell_type": "code",
   "execution_count": 11,
   "metadata": {},
   "outputs": [
    {
     "name": "stdout",
     "output_type": "stream",
     "text": [
      "({'age': 202, 'name': 'Ada Lovelace'},\n",
      " {'age': 135, 'name': 'Emmy Noether'},\n",
      " {'age': 150, 'name': 'Marie Curie'},\n",
      " {'age': 87, 'name': 'Tu Youyou'},\n",
      " {'age': 78, 'name': 'Ada Yonath'},\n",
      " {'age': 89, 'name': 'Vera Rubin'},\n",
      " {'age': 66, 'name': 'Sally Ride'})\n"
     ]
    }
   ],
   "source": [
    "pprint(names_and_ages)"
   ]
  },
  {
   "cell_type": "code",
   "execution_count": 12,
   "metadata": {},
   "outputs": [
    {
     "name": "stdout",
     "output_type": "stream",
     "text": [
      "({'age': 202, 'name': 'Ada Lovelace'},\n",
      " {'age': 135, 'name': 'Emmy Noether'},\n",
      " {'age': 150, 'name': 'Marie Curie'},\n",
      " {'age': 87, 'name': 'Tu Youyou'},\n",
      " {'age': 78, 'name': 'Ada Yonath'},\n",
      " {'age': 89, 'name': 'Vera Rubin'},\n",
      " {'age': 66, 'name': 'Sally Ride'})\n"
     ]
    }
   ],
   "source": [
    "## make above more pythonic with list comprehension\n",
    "pprint(tuple({'name': x.name, 'age': 2017-x.born}\n",
    "for x in scientists))"
   ]
  },
  {
   "cell_type": "markdown",
   "metadata": {},
   "source": [
    "### The \"reduce()\" function"
   ]
  },
  {
   "cell_type": "code",
   "execution_count": 13,
   "metadata": {},
   "outputs": [],
   "source": [
    "from functools import reduce"
   ]
  },
  {
   "cell_type": "code",
   "execution_count": 14,
   "metadata": {},
   "outputs": [
    {
     "data": {
      "text/plain": [
       "807"
      ]
     },
     "execution_count": 14,
     "metadata": {},
     "output_type": "execute_result"
    }
   ],
   "source": [
    "#Reduces sequence to value by applying function to sequence\n",
    "## Calculate total age of group\n",
    "total_age = reduce(\n",
    "    lambda acc, val: acc + val['age'],\n",
    "    names_and_ages,\n",
    "    0)\n",
    "total_age"
   ]
  },
  {
   "cell_type": "code",
   "execution_count": 15,
   "metadata": {},
   "outputs": [
    {
     "data": {
      "text/plain": [
       "807"
      ]
     },
     "execution_count": 15,
     "metadata": {},
     "output_type": "execute_result"
    }
   ],
   "source": [
    "## pythonic way\n",
    "sum(x['age'] for x in names_and_ages)"
   ]
  },
  {
   "cell_type": "code",
   "execution_count": 16,
   "metadata": {},
   "outputs": [
    {
     "name": "stdout",
     "output_type": "stream",
     "text": [
      "{'astronomy': ['Vera Rubin'],\n",
      " 'chemistry': ['Tu Youyou', 'Ada Yonath'],\n",
      " 'math': ['Ada Lovelace', 'Emmy Noether'],\n",
      " 'physics': ['Marie Curie', 'Sally Ride']}\n"
     ]
    }
   ],
   "source": [
    "def reducer(acc, val):\n",
    "    acc[val.field].append(val.name)\n",
    "    return acc\n",
    "\n",
    "scientists_by_field = reduce(\n",
    "    reducer,\n",
    "    scientists,\n",
    "    {'math':[], 'physics':[], 'chemistry':[], 'astronomy':[]})\n",
    "\n",
    "pprint(scientists_by_field)"
   ]
  },
  {
   "cell_type": "code",
   "execution_count": 17,
   "metadata": {},
   "outputs": [
    {
     "data": {
      "text/plain": [
       "[]"
      ]
     },
     "execution_count": 17,
     "metadata": {},
     "output_type": "execute_result"
    }
   ],
   "source": [
    "##better way of above do not manually define accumulator\n",
    "scientists_by_field = reduce(\n",
    "    reducer,\n",
    "    scientists,\n",
    "    collections.defaultdict(list))\n",
    "\n",
    "dd = collections.defaultdict(list)\n",
    "dd['doesntexist']\n",
    "dd['doesntexist---2']"
   ]
  },
  {
   "cell_type": "code",
   "execution_count": 18,
   "metadata": {},
   "outputs": [
    {
     "data": {
      "text/plain": [
       "defaultdict(list, {'doesntexist': [], 'doesntexist---2': []})"
      ]
     },
     "execution_count": 18,
     "metadata": {},
     "output_type": "execute_result"
    }
   ],
   "source": [
    "dd"
   ]
  },
  {
   "cell_type": "code",
   "execution_count": 19,
   "metadata": {},
   "outputs": [
    {
     "data": {
      "text/plain": [
       "defaultdict(list, {'doesntexist': [], 'doesntexist---2': [], 'xyz': [1]})"
      ]
     },
     "execution_count": 19,
     "metadata": {},
     "output_type": "execute_result"
    }
   ],
   "source": [
    "dd['xyz'].append(1)\n",
    "dd"
   ]
  },
  {
   "cell_type": "code",
   "execution_count": 20,
   "metadata": {},
   "outputs": [
    {
     "name": "stdout",
     "output_type": "stream",
     "text": [
      "{'astronomy': [Scientists(name='Vera Rubin', field='astronomy', born=1928, nobel=False)],\n",
      " 'chemistry': [Scientists(name='Tu Youyou', field='chemistry', born=1930, nobel=True),\n",
      "               Scientists(name='Ada Yonath', field='chemistry', born=1939, nobel=True)],\n",
      " 'math': [Scientists(name='Ada Lovelace', field='math', born=1815, nobel=False),\n",
      "          Scientists(name='Emmy Noether', field='math', born=1882, nobel=False)],\n",
      " 'physics': [Scientists(name='Sally Ride', field='physics', born=1951, nobel=True)]}\n"
     ]
    }
   ],
   "source": [
    "## pythonic version of reducer\n",
    "import itertools\n",
    "scientists_by_field = {\n",
    "    item[0]: list(item[1])\n",
    "    for item in itertools.groupby(scientists, lambda x: x.field)\n",
    "}\n",
    "pprint(scientists_by_field)"
   ]
  },
  {
   "cell_type": "code",
   "execution_count": 21,
   "metadata": {
    "scrolled": true
   },
   "outputs": [
    {
     "name": "stdout",
     "output_type": "stream",
     "text": [
      "{'astronomy': ['Vera Rubin'],\n",
      " 'chemistry': ['Tu Youyou', 'Ada Yonath'],\n",
      " 'math': ['Ada Lovelace', 'Emmy Noether'],\n",
      " 'physics': ['Marie Curie', 'Sally Ride']}\n"
     ]
    }
   ],
   "source": [
    "## another version using lambda function instead of seperatly define function, probably not good method because hard to understand\n",
    "import functools\n",
    "scientists_by_field = functools.reduce(\n",
    "    lambda acc, val: {**acc, **{val.field: acc[val.field] + [val.name]}},\n",
    "    scientists,\n",
    "    {'math':[], 'physics':[], 'chemistry':[], 'astronomy':[]}\n",
    ")\n",
    "\n",
    "pprint(scientists_by_field)"
   ]
  },
  {
   "cell_type": "code",
   "execution_count": null,
   "metadata": {},
   "outputs": [],
   "source": []
  }
 ],
 "metadata": {
  "kernelspec": {
   "display_name": "Python 3",
   "language": "python",
   "name": "python3"
  },
  "language_info": {
   "codemirror_mode": {
    "name": "ipython",
    "version": 3
   },
   "file_extension": ".py",
   "mimetype": "text/x-python",
   "name": "python",
   "nbconvert_exporter": "python",
   "pygments_lexer": "ipython3",
   "version": "3.7.5"
  }
 },
 "nbformat": 4,
 "nbformat_minor": 2
}
