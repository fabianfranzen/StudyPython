{
 "cells": [
  {
   "cell_type": "markdown",
   "metadata": {},
   "source": [
    "### Immutable data structures"
   ]
  },
  {
   "cell_type": "markdown",
   "metadata": {},
   "source": [
    "Dont use dictionary, list because it's mutable. Use tuple!"
   ]
  },
  {
   "cell_type": "code",
   "execution_count": 1,
   "metadata": {},
   "outputs": [],
   "source": [
    "import collections"
   ]
  },
  {
   "cell_type": "code",
   "execution_count": 2,
   "metadata": {},
   "outputs": [],
   "source": [
    "Scientist = collections.namedtuple('Scientists', [\n",
    "    'name',\n",
    "    'field',\n",
    "    'born',\n",
    "    'nobel'\n",
    "])"
   ]
  },
  {
   "cell_type": "code",
   "execution_count": 12,
   "metadata": {},
   "outputs": [],
   "source": [
    "scientists = (Scientist(name='Ada Lovelace', field='math', born=1815, nobel=False),\n",
    "              Scientist(name='Emmy Noether', field='math', born=1882, nobel=False),\n",
    "              Scientist(name='Marie Curie', field='physics', born=1867, nobel=True),\n",
    "              Scientist(name='Tu Youyou', field='chemistry', born=1930, nobel=True),\n",
    "              Scientist(name='Ada Yonath', field='chemistry', born=1939, nobel=True),\n",
    "              Scientist(name='Vera Rubin', field='astronomy', born=1928, nobel=False),\n",
    "              Scientist(name='Sally Ride', field='physics', born=1951, nobel=True)\n",
    "             )"
   ]
  },
  {
   "cell_type": "code",
   "execution_count": 13,
   "metadata": {},
   "outputs": [
    {
     "data": {
      "text/plain": [
       "(Scientists(name='Ada Lovelace', field='math', born=1815, nobel=False),\n",
       " Scientists(name='Emmy Noether', field='math', born=1882, nobel=False),\n",
       " Scientists(name='Marie Curie', field='physics', born=1867, nobel=True),\n",
       " Scientists(name='Tu Youyou', field='chemistry', born=1930, nobel=True),\n",
       " Scientists(name='Ada Yonath', field='chemistry', born=1939, nobel=True),\n",
       " Scientists(name='Vera Rubin', field='astronomy', born=1928, nobel=False),\n",
       " Scientists(name='Sally Ride', field='physics', born=1951, nobel=True))"
      ]
     },
     "execution_count": 13,
     "metadata": {},
     "output_type": "execute_result"
    }
   ],
   "source": [
    "scientists"
   ]
  },
  {
   "cell_type": "code",
   "execution_count": 8,
   "metadata": {},
   "outputs": [],
   "source": [
    "from pprint import pprint"
   ]
  },
  {
   "cell_type": "code",
   "execution_count": 9,
   "metadata": {},
   "outputs": [
    {
     "name": "stdout",
     "output_type": "stream",
     "text": [
      "[Scientists(name='Ada Lovelace', field='math', born=1815, nobel=False),\n",
      " Scientists(name='Emmy Noether', field='math', born=1882, nobel=False)]\n"
     ]
    }
   ],
   "source": [
    "pprint(scientists)"
   ]
  },
  {
   "cell_type": "markdown",
   "metadata": {},
   "source": [
    "### The \"filter()\" Function"
   ]
  },
  {
   "cell_type": "code",
   "execution_count": 18,
   "metadata": {},
   "outputs": [],
   "source": [
    "#get new list off scientists that have won nobel prize\n",
    "fs = tuple(filter(lambda x: x.nobel is True, scientists))\n",
    "#lambda is a one line function, put arguments with one expression, no return. Will evaluate expression and return back.\n",
    "#next(fs) can be used if tuple is not used above"
   ]
  },
  {
   "cell_type": "code",
   "execution_count": 20,
   "metadata": {},
   "outputs": [
    {
     "name": "stdout",
     "output_type": "stream",
     "text": [
      "(Scientists(name='Marie Curie', field='physics', born=1867, nobel=True),\n",
      " Scientists(name='Tu Youyou', field='chemistry', born=1930, nobel=True),\n",
      " Scientists(name='Ada Yonath', field='chemistry', born=1939, nobel=True),\n",
      " Scientists(name='Sally Ride', field='physics', born=1951, nobel=True))\n"
     ]
    }
   ],
   "source": [
    "pprint(fs)"
   ]
  },
  {
   "cell_type": "code",
   "execution_count": 21,
   "metadata": {},
   "outputs": [
    {
     "data": {
      "text/plain": [
       "[Scientists(name='Marie Curie', field='physics', born=1867, nobel=True),\n",
       " Scientists(name='Tu Youyou', field='chemistry', born=1930, nobel=True),\n",
       " Scientists(name='Ada Yonath', field='chemistry', born=1939, nobel=True),\n",
       " Scientists(name='Sally Ride', field='physics', born=1951, nobel=True)]"
      ]
     },
     "execution_count": 21,
     "metadata": {},
     "output_type": "execute_result"
    }
   ],
   "source": [
    "## List comprehensions\n",
    "[x for x in scientists if x.nobel is True]\n",
    "## \"pythonic\" version of filter expression"
   ]
  },
  {
   "cell_type": "markdown",
   "metadata": {},
   "source": [
    "### The \"map()\" Function"
   ]
  },
  {
   "cell_type": "code",
   "execution_count": 22,
   "metadata": {},
   "outputs": [],
   "source": [
    "## map takes a list of stuff, applies a function and assembles a new list based on that\n",
    "names_and_ages = tuple(map(\n",
    "    lambda x: {'name': x.name, 'age':2017-x.born},\n",
    "    scientists\n",
    "))"
   ]
  },
  {
   "cell_type": "code",
   "execution_count": 24,
   "metadata": {},
   "outputs": [
    {
     "name": "stdout",
     "output_type": "stream",
     "text": [
      "({'age': 202, 'name': 'Ada Lovelace'},\n",
      " {'age': 135, 'name': 'Emmy Noether'},\n",
      " {'age': 150, 'name': 'Marie Curie'},\n",
      " {'age': 87, 'name': 'Tu Youyou'},\n",
      " {'age': 78, 'name': 'Ada Yonath'},\n",
      " {'age': 89, 'name': 'Vera Rubin'},\n",
      " {'age': 66, 'name': 'Sally Ride'})\n"
     ]
    }
   ],
   "source": [
    "pprint(names_and_ages)"
   ]
  },
  {
   "cell_type": "code",
   "execution_count": 27,
   "metadata": {},
   "outputs": [
    {
     "name": "stdout",
     "output_type": "stream",
     "text": [
      "({'age': 202, 'name': 'Ada Lovelace'},\n",
      " {'age': 135, 'name': 'Emmy Noether'},\n",
      " {'age': 150, 'name': 'Marie Curie'},\n",
      " {'age': 87, 'name': 'Tu Youyou'},\n",
      " {'age': 78, 'name': 'Ada Yonath'},\n",
      " {'age': 89, 'name': 'Vera Rubin'},\n",
      " {'age': 66, 'name': 'Sally Ride'})\n"
     ]
    }
   ],
   "source": [
    "## make above more pythonic with list comprehension\n",
    "pprint(tuple({'name': x.name, 'age': 2017-x.born}\n",
    "for x in scientists))"
   ]
  },
  {
   "cell_type": "code",
   "execution_count": null,
   "metadata": {},
   "outputs": [],
   "source": []
  },
  {
   "cell_type": "code",
   "execution_count": null,
   "metadata": {},
   "outputs": [],
   "source": []
  },
  {
   "cell_type": "code",
   "execution_count": null,
   "metadata": {},
   "outputs": [],
   "source": []
  }
 ],
 "metadata": {
  "kernelspec": {
   "display_name": "Python 3",
   "language": "python",
   "name": "python3"
  },
  "language_info": {
   "codemirror_mode": {
    "name": "ipython",
    "version": 3
   },
   "file_extension": ".py",
   "mimetype": "text/x-python",
   "name": "python",
   "nbconvert_exporter": "python",
   "pygments_lexer": "ipython3",
   "version": "3.7.5"
  }
 },
 "nbformat": 4,
 "nbformat_minor": 2
}
